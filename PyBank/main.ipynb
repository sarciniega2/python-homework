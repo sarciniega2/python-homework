{
 "cells": [
  {
   "cell_type": "code",
   "execution_count": 9,
   "metadata": {
    "tags": []
   },
   "outputs": [
    {
     "output_type": "stream",
     "name": "stdout",
     "text": [
      "116771.0\n-662642.0\n-391430.0\n379920.0\n212354.0\n510239.0\n-428211.0\n-821271.0\n693918.0\n416278.0\n-974163.0\n860159.0\n-1115009.0\n1033048.0\n95318.0\n-308093.0\n99052.0\n-521393.0\n605450.0\n231727.0\n-65187.0\n-702716.0\n177975.0\n-1065544.0\n1926159.0\n-917805.0\n898730.0\n-334262.0\n-246499.0\n-64055.0\n-1529236.0\n1497596.0\n304914.0\n-635801.0\n398319.0\n-183161.0\n-37864.0\n-253689.0\n403655.0\n94168.0\n306877.0\n-83000.0\n210462.0\n-2196167.0\n1465222.0\n-956983.0\n1838447.0\n-468003.0\n-64602.0\n206242.0\n-242155.0\n-449079.0\n315198.0\n241099.0\n111540.0\n365942.0\n-219310.0\n-368665.0\n409837.0\n151210.0\n-110244.0\n-341938.0\n-1212159.0\n683246.0\n-70825.0\n335594.0\n417334.0\n-272194.0\n-236462.0\n657432.0\n-211262.0\n-128237.0\n-1750387.0\n925441.0\n932089.0\n-311434.0\n267252.0\n-1876758.0\n1733696.0\n198551.0\n-665765.0\n693229.0\n-734926.0\n77242.0\n532869.0\nFinancial Anaylsis\n-----------------------\nTotal Months: 86\nTotal:$ 38382578\nAverage Change:$ -2315.12\n1926159\n-2196167\n"
     ]
    }
   ],
   "source": [
    "import csv\n",
    "from pathlib import Path\n",
    "filepath = Path(\"../budget_data.csv\")\n",
    "total_num_months = -1\n",
    "numberlist =[]\n",
    "monthlist = []\n",
    "total = []\n",
    "revenuechangelist = []\n",
    "revenueaverage = 0\n",
    "greatest_increase = 0\n",
    "greatest_decrease = 0\n",
    "monthlistplacement = []\n",
    "with open (filepath, \"r\") as csvfile:\n",
    "    csvreader = csv.reader(csvfile, delimiter = \",\")\n",
    "    for line in csvreader:\n",
    "        total_num_months += 1\n",
    "        numberlist.append(line[1])\n",
    "        monthlist.append(line[0])\n",
    "    monthlist.remove(\"Date\")\n",
    "    numberlist.remove(\"Profit/Losses\")\n",
    "    for i in numberlist:\n",
    "        total.append(int(i))\n",
    "    Sum = sum(total)\n",
    "    for change in range(1, len(total)):\n",
    "        revenuechangelist.append((float(total[change]) - float(total[change - 1])))\n",
    "    revenueaverage = round(sum(revenuechangelist)/len(revenuechangelist),2)\n",
    "    for j in revenuechangelist:\n",
    "        if j > greatest_increase:\n",
    "            greatest_increase = int(j)\n",
    "        if j < greatest_decrease:\n",
    "            greatest_decrease = int(j)\n",
    "print (\"Financial Anaylsis\")\n",
    "print (\"-----------------------\")\n",
    "print(\"Total Months:\", total_num_months)\n",
    "print(\"Total:$\", Sum)\n",
    "print(\"Average Change:$\", revenueaverage)\n",
    "print(greatest_increase)\n",
    "print(greatest_decrease)\n",
    "#print(revenuechangelist\n",
    "#final goal is to get months to increase and decrease"
   ]
  },
  {
   "cell_type": "code",
   "execution_count": null,
   "metadata": {},
   "outputs": [],
   "source": []
  }
 ],
 "metadata": {
  "kernelspec": {
   "display_name": "Python 3",
   "language": "python",
   "name": "python3"
  },
  "language_info": {
   "codemirror_mode": {
    "name": "ipython",
    "version": 3
   },
   "file_extension": ".py",
   "mimetype": "text/x-python",
   "name": "python",
   "nbconvert_exporter": "python",
   "pygments_lexer": "ipython3",
   "version": "3.8.5-final"
  }
 },
 "nbformat": 4,
 "nbformat_minor": 5
}