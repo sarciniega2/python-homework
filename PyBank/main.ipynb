{
 "cells": [
  {
   "cell_type": "code",
   "execution_count": 66,
   "metadata": {
    "tags": []
   },
   "outputs": [
    {
     "output_type": "stream",
     "name": "stdout",
     "text": [
      "Financial Anaylsis\n-----------------------\nTotal Months: 86\nTotal: $38382578\nAverage Change:$ -2315.12\nGreatest Increase in Profits: Feb-2012 1926159\nGreatest Decrease in Profits: Sep-2013 -2196167\n"
     ]
    }
   ],
   "source": [
    "import csv\n",
    "from pathlib import Path\n",
    "filepath = Path(\"../budget_data.csv\")\n",
    "total_num_months = -1\n",
    "numberlist =[]\n",
    "monthlist = []\n",
    "total = []\n",
    "revenuechangelist = []\n",
    "revenueaverage = 0\n",
    "greatest_increase = 0\n",
    "greatest_decrease = 0\n",
    "with open (filepath, \"r\") as csvfile:\n",
    "    csvreader = csv.reader(csvfile, delimiter = \",\")\n",
    "    for line in csvreader:\n",
    "        total_num_months += 1\n",
    "        numberlist.append(line[1])\n",
    "        monthlist.append(line[0])\n",
    "    monthlist.remove(\"Date\")\n",
    "    numberlist.remove(\"Profit/Losses\")\n",
    "    for i in numberlist:\n",
    "        total.append(int(i))\n",
    "    Sum = sum(total)\n",
    "    for change in range(1, len(total)):\n",
    "        revenuechangelist.append((float(total[change]) - float(total[change - 1])))\n",
    "    revenueaverage = round(sum(revenuechangelist)/len(revenuechangelist),2)\n",
    "    for j in revenuechangelist:\n",
    "        if j > greatest_increase:\n",
    "                greatest_increase = int(j)\n",
    "        if j < greatest_decrease:\n",
    "                greatest_decrease = int(j)\n",
    "    for x in range (len(revenuechangelist)):\n",
    "        if revenuechangelist[x]== greatest_increase:\n",
    "            monthi = (monthlist[x + 1])\n",
    "        if revenuechangelist[x]== greatest_decrease:\n",
    "            monthd=(monthlist[x + 1])\n",
    "print (\"Financial Anaylsis\")\n",
    "print (\"-----------------------\")\n",
    "print(\"Total Months:\", total_num_months)\n",
    "print(\"Total: ${}\".format(Sum))\n",
    "print(\"Average Change:$\", revenueaverage)\n",
    "print(\"Greatest Increase in Profits:\", monthi, greatest_increase)\n",
    "print(\"Greatest Decrease in Profits:\", monthd, greatest_decrease)"
   ]
  },
  {
   "cell_type": "code",
   "execution_count": null,
   "metadata": {},
   "outputs": [],
   "source": []
  }
 ],
 "metadata": {
  "kernelspec": {
   "display_name": "Python 3",
   "language": "python",
   "name": "python3"
  },
  "language_info": {
   "codemirror_mode": {
    "name": "ipython",
    "version": 3
   },
   "file_extension": ".py",
   "mimetype": "text/x-python",
   "name": "python",
   "nbconvert_exporter": "python",
   "pygments_lexer": "ipython3",
   "version": "3.8.5-final"
  }
 },
 "nbformat": 4,
 "nbformat_minor": 5
}